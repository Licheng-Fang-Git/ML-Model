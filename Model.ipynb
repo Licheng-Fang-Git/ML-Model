{
 "cells": [
  {
   "cell_type": "markdown",
   "id": "75311e47",
   "metadata": {},
   "source": [
    "\n",
    "# **Exploratory Data Analysis**\n",
    "\n",
    "        - Method used to analyze data sets and summarize their main characteristics\n",
    "\n",
    "        - Transforming and cleaning data to make it more useful\n",
    "\n",
    "        - Makeing it easier to discover patterens, spot anomalies, checking assumptions or even testing hypothesis\n",
    "    \n",
    "# **Two Subgroups of EDA**\n",
    "\n",
    "        - Uni-Variat\n",
    "    \n",
    "        - Multi-Variat\n",
    "\n",
    "# **Uni-Variat Analysis**\n",
    "\n",
    "        - Purpose: Describe the data and find patterns that exist within it. \n",
    "\n",
    "        - Non Graphical:\n",
    "        \n",
    "                - Since it deals with a single variable, its purpose is to describe the data's central tendency (mean, median) and spread (variance, standard deviation) without exploring relationships or causality\n",
    "\n",
    "        - Graphical:\n",
    "\n",
    "                - Common Types of graphs include:\n",
    "        \n",
    "                        - Stem and Leaf Plots which shows all the data values and the shape of distribution\n",
    "\n",
    "                        - Histograms/Bar Plot which each bar represents the porportion of cases for a range of values\n",
    "\n",
    "                        - Box plot is a fantastic graphical tool for univariate analysis as it clearly shows the median, quartiles, and outliers.\n",
    "                        \n",
    "\n",
    "\n",
    "# **Multi-Variat Analysis**\n",
    "\n",
    "        - Non Graphical:\n",
    "\n",
    "                - Shows relationship between two or more varaibles of data through cross tabulation or statistics \n",
    "        \n",
    "        - Multivariate Graphics:\n",
    "        \n",
    "                - Group bar charts which each group represents one level of the other variable\n",
    "                \n",
    "                - Bubble charts, heat maps and run charts\n",
    "\n",
    "                - Bubble Charts and Heat Maps: Useful for visualizing relationships among three or more variables."
   ]
  },
  {
   "cell_type": "code",
   "execution_count": 112,
   "id": "fcab7ec1-4b14-4843-8b8a-955b48baff60",
   "metadata": {},
   "outputs": [
    {
     "name": "stdout",
     "output_type": "stream",
     "text": [
      "Requirement already satisfied: scipy in /Users/andyfang/.pyenv/versions/3.9.2/lib/python3.9/site-packages (1.13.1)\n",
      "Requirement already satisfied: numpy<2.3,>=1.22.4 in /Users/andyfang/.pyenv/versions/3.9.2/lib/python3.9/site-packages (from scipy) (2.0.2)\n",
      "Hello\n"
     ]
    }
   ],
   "source": [
    "!pip install scipy\n",
    "import pandas as pd\n",
    "import numpy as np\n",
    "import matplotlib.pylab as plt\n",
    "import seaborn as sns\n",
    "from scipy import stats\n",
    "plt.style.use('ggplot')\n",
    "\n",
    "\n",
    "print(\"Hello\")"
   ]
  },
  {
   "cell_type": "code",
   "execution_count": 113,
   "id": "e8526fe7-ad0b-4ec0-afa6-8eef08aaa1ab",
   "metadata": {},
   "outputs": [
    {
     "name": "stdout",
     "output_type": "stream",
     "text": [
      "https://docs.google.com/spreadsheets/d/1thMQ4ndtgzyEM6qfoA2tfrt3MEzZY2CtxhjpCTNcS0U/gviz/tq?tqx=out:csv&sheet=Content\n",
      "Index(['Post title', 'Post link', 'Post type', 'Campaign name', 'Posted by',\n",
      "       'Created date', 'Campaign start date', 'Campaign end date', 'Audience',\n",
      "       'Impressions', 'Views', 'Offsite Views', 'Clicks',\n",
      "       'Click through rate (CTR)', 'Likes', 'Comments', 'Reposts', 'Follows',\n",
      "       'Engagement rate', 'Content Type', 'Post Title', 'Category',\n",
      "       'Sub-Category', 'Year', 'Month & Year', 'Day of the week',\n",
      "       'Time of Posting', 'Number of Post', 'Emoji', 'Emoji Value',\n",
      "       'Type Emoji', 'Type of Post', 'Month', 'Interval Times'],\n",
      "      dtype='object')\n"
     ]
    }
   ],
   "source": [
    "df = pd.read_csv(\"https://docs.google.com/spreadsheets/d/1thMQ4ndtgzyEM6qfoA2tfrt3MEzZY2CtxhjpCTNcS0U/gviz/tq?tqx=out:csv&sheet=Content\")\n",
    "print('https://docs.google.com/spreadsheets/d/1thMQ4ndtgzyEM6qfoA2tfrt3MEzZY2CtxhjpCTNcS0U/gviz/tq?tqx=out:csv&sheet=Content')\n",
    "print(df.columns)"
   ]
  },
  {
   "cell_type": "code",
   "execution_count": 114,
   "id": "42901bae-941a-4af8-bb0d-7a2670672985",
   "metadata": {},
   "outputs": [],
   "source": [
    "df = df[['Post title', 'Post link', 'Created date', 'Impressions', 'Clicks',\n",
    "       'Click through rate (CTR)', 'Likes',\n",
    "       'Engagement rate', 'Category',\n",
    "       'Sub-Category', 'Year', 'Month', 'Month & Year', 'Day of the week',\n",
    "       'Time of Posting', 'Emoji', 'Type of Post', 'Interval Times']].copy()\n",
    "\n",
    "def time_to_hours(t):\n",
    "    return pd.to_datetime(t, format=\"%I:%M %p\").hour + pd.to_datetime(t, format=\"%I:%M %p\").minute / 60\n",
    "\n",
    "df['Interval Times'] = df['Interval Times'].apply(time_to_hours)"
   ]
  },
  {
   "cell_type": "markdown",
   "id": "4d7c169a",
   "metadata": {},
   "source": [
    "ANOVA"
   ]
  },
  {
   "cell_type": "markdown",
   "id": "a18e4dd5",
   "metadata": {},
   "source": [
    "Month"
   ]
  },
  {
   "cell_type": "code",
   "execution_count": 117,
   "id": "35432196-a5a8-4a3a-9c44-c05ce31df05d",
   "metadata": {},
   "outputs": [
    {
     "name": "stdout",
     "output_type": "stream",
     "text": [
      "{np.float64(11.0): [3954, 11898, 1900, 5339, 1772, 3576, 19962, 1463, 7671, 1307, 2363, 1557, 1923, 2084, 2355, 2634, 2691, 4690], np.float64(12.0): [5259, 2500, 6087, 3325, 1579, 1776, 3910, 5119, 1727, 1564, 2024, 4038, 3814, 8644, 2244, 3406, 1897, 6397, 2853, 3518, 7259, 2180, 6535, 2949, 1442, 4725, 1071, 4569, 2353, 2007], np.float64(14.0): [12248, 5247, 5454, 11455, 11043, 3189, 3790, 2619, 3852, 1603, 1323, 7323, 4850, 15092, 9392, 6810, 4999, 10516, 3460, 2930, 2715], np.float64(12.5): [7812, 8114, 4914, 3194, 3485, 2916, 20272, 9161, 4348, 1902, 6658, 11365, 3370, 6171, 2519, 1008, 2393, 1927, 1642, 3714, 7887, 18952, 10497, 6383, 2593], np.float64(16.5): [2262, 6979, 1031, 2718, 2453, 2741], np.float64(13.0): [3009, 2260, 5584, 5791, 11219, 1515, 2687, 2049, 9070, 10096, 1181, 10943, 1305, 1103, 3069, 5623, 6646, 2007, 4194, 3529, 4490, 3346], np.float64(6.0): [5845], np.float64(10.0): [1192, 1087, 1181, 923, 1635, 7898, 3922, 4004, 975, 1165, 6023, 6944, 5936], np.float64(13.5): [2932, 2728, 5126, 3671, 4383, 4726, 8141, 7783, 4060, 2720, 2625, 2475, 4750, 2949, 4605, 2884, 1484, 2828, 1706], np.float64(15.5): [4825, 2177, 12950], np.float64(11.5): [5771, 2641, 1904, 2650, 3802, 5772, 1995, 2015, 2732], np.float64(10.5): [2032, 1510, 1175, 1737, 1003, 2148, 1485], np.float64(9.0): [19672], np.float64(9.5): [1253, 1990, 1449], np.float64(15.0): [4617, 7493], np.float64(17.0): [2068], np.float64(14.5): [5861, 3208, 4985], np.float64(16.0): [7716, 4411, 2582], np.float64(17.5): [2043, 3197], np.float64(8.0): [1087], np.float64(18.0): [2431], np.float64(1.5): [2945], np.float64(7.0): [1511], np.float64(8.5): [2601]}\n",
      "SST 2460769845.9433002\n",
      "SSB: 585740277.6530963\n",
      "SSW: 1875029568.2902007\n",
      "MSB: 25466968.593612883\n",
      "MSW: 11029585.69582471\n",
      "F: 2.308968740616748\n",
      "p: 0.0012545784841308256\n"
     ]
    }
   ],
   "source": [
    "\n",
    "unique = df['Interval Times'].unique()\n",
    "\n",
    "impression_info = {i : 0 for i in unique}\n",
    "\n",
    "for i in unique:\n",
    "    impression_info[i] = list(df[df['Interval Times'] == i]['Impressions'])\n",
    "\n",
    "print(impression_info)\n",
    "\n",
    "\n",
    "grand_mean = 0\n",
    "total_numbers = 0\n",
    "group_lengths = []\n",
    "for i in impression_info:\n",
    "    group_lengths.append(len(list(impression_info[i])))\n",
    "    total_numbers += len(list(impression_info[i]))\n",
    "    grand_mean += sum(impression_info[i])\n",
    "    \n",
    "grand_mean /= total_numbers\n",
    "\n",
    "sst = 0\n",
    "for i in impression_info:\n",
    "    for impression in impression_info[i]:\n",
    "        sst += (impression - grand_mean)**2\n",
    "\n",
    "ssw = 0\n",
    "group_means = [ sum(impression_info[i])/len(impression_info[i]) for i in impression_info]\n",
    "\n",
    "for group_idx, group_mean in enumerate(group_means):\n",
    "    for impression in list(impression_info.values())[group_idx]:\n",
    "        ssw += (impression - group_means[group_idx]) **2\n",
    "\n",
    "ssb = 0\n",
    "for idx, group_mean in enumerate(group_means):\n",
    "    ssb += group_lengths[idx]* (group_mean - grand_mean) ** 2 \n",
    "\n",
    "# ssb = sum([len(v) * (np.mean(v) - grand_mean)**2 for v in impression_info.values()])\n",
    "\n",
    "k = len(impression_info)\n",
    "N = sum(group_lengths)\n",
    "df_between = k - 1\n",
    "df_within = N - k\n",
    "\n",
    "MSB = ssb / df_between\n",
    "MSW = ssw / df_within\n",
    "F = MSB / MSW\n",
    "p = stats.f.sf(F, df_between, df_within)\n",
    "print('SST', sst)\n",
    "print(\"SSB:\", ssb)\n",
    "print(\"SSW:\", ssw)\n",
    "print(\"MSB:\", MSB)\n",
    "print(\"MSW:\", MSW)\n",
    "print(\"F:\", F)\n",
    "print(\"p:\", p)\n"
   ]
  },
  {
   "cell_type": "markdown",
   "id": "51f39322",
   "metadata": {},
   "source": [
    "Interpretation\n",
    "\n",
    "Since p < 0.05, there is strong statistical evidence that posting time intervals are associated with differences in impressions.\n",
    "\n",
    "When you post matters. Certain times of the day statistically lead to higher or lower impressions.\n"
   ]
  }
 ],
 "metadata": {
  "kernelspec": {
   "display_name": "Python 3 (ipykernel)",
   "language": "python",
   "name": "python3"
  },
  "language_info": {
   "codemirror_mode": {
    "name": "ipython",
    "version": 3
   },
   "file_extension": ".py",
   "mimetype": "text/x-python",
   "name": "python",
   "nbconvert_exporter": "python",
   "pygments_lexer": "ipython3",
   "version": "3.9.2"
  }
 },
 "nbformat": 4,
 "nbformat_minor": 5
}

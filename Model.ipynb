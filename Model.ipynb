{
 "cells": [
  {
   "cell_type": "markdown",
   "id": "75311e47",
   "metadata": {},
   "source": [
    "\n",
    "# **Exploratory Data Analysis**\n",
    "\n",
    "        - Method used to analyze data sets and summarize their main characteristics\n",
    "\n",
    "        - Transforming and cleaning data to make it more useful\n",
    "\n",
    "        - Makeing it easier to discover patterens, spot anomalies, checking assumptions or even testing hypothesis\n",
    "    \n",
    "# **Two Subgroups of EDA**\n",
    "\n",
    "        - Uni-Variat\n",
    "    \n",
    "        - Multi-Variat\n",
    "\n",
    "# **Uni-Variat Analysis**\n",
    "\n",
    "        - Purpose: Describe the data and find patterns that exist within it. \n",
    "\n",
    "        - Non Graphical:\n",
    "        \n",
    "                - Since it deals with a single variable, its purpose is to describe the data's central tendency (mean, median) and spread (variance, standard deviation) without exploring relationships or causality\n",
    "\n",
    "        - Graphical:\n",
    "\n",
    "                - Common Types of graphs include:\n",
    "        \n",
    "                        - Stem and Leaf Plots which shows all the data values and the shape of distribution\n",
    "\n",
    "                        - Histograms/Bar Plot which each bar represents the porportion of cases for a range of values\n",
    "\n",
    "                        - Box plot is a fantastic graphical tool for univariate analysis as it clearly shows the median, quartiles, and outliers.\n",
    "                        \n",
    "\n",
    "\n",
    "# **Multi-Variat Analysis**\n",
    "\n",
    "        - Non Graphical:\n",
    "\n",
    "                - Shows relationship between two or more varaibles of data through cross tabulation or statistics \n",
    "        \n",
    "        - Multivariate Graphics:\n",
    "        \n",
    "                - Group bar charts which each group represents one level of the other variable\n",
    "                \n",
    "                - Bubble charts, heat maps and run charts\n",
    "\n",
    "                - Bubble Charts and Heat Maps: Useful for visualizing relationships among three or more variables."
   ]
  },
  {
   "cell_type": "code",
   "execution_count": 27,
   "id": "fcab7ec1-4b14-4843-8b8a-955b48baff60",
   "metadata": {},
   "outputs": [
    {
     "name": "stdout",
     "output_type": "stream",
     "text": [
      "Hello\n"
     ]
    }
   ],
   "source": [
    "import pandas as pd\n",
    "import numpy as np\n",
    "import matplotlib.pylab as plt\n",
    "import seaborn as sns\n",
    "from scipy import stats\n",
    "plt.style.use('ggplot')\n",
    "\n",
    "\n",
    "print(\"Hello\")"
   ]
  },
  {
   "cell_type": "code",
   "execution_count": 28,
   "id": "e8526fe7-ad0b-4ec0-afa6-8eef08aaa1ab",
   "metadata": {},
   "outputs": [
    {
     "name": "stdout",
     "output_type": "stream",
     "text": [
      "https://docs.google.com/spreadsheets/d/1thMQ4ndtgzyEM6qfoA2tfrt3MEzZY2CtxhjpCTNcS0U/gviz/tq?tqx=out:csv&sheet=Content\n",
      "Index(['Post title', 'Post link', 'Post type', 'Campaign name', 'Posted by',\n",
      "       'Created date', 'Campaign start date', 'Campaign end date', 'Audience',\n",
      "       'Impressions', 'Views', 'Offsite Views', 'Clicks',\n",
      "       'Click through rate (CTR)', 'Likes', 'Comments', 'Reposts', 'Follows',\n",
      "       'Engagement rate', 'Content Type', 'Post Title', 'Category',\n",
      "       'Sub-Category', 'Year', 'Month & Year', 'Day of the week',\n",
      "       'Time of Posting', 'Number of Post', 'Emoji', 'Emoji Value',\n",
      "       'Type Emoji', 'Type of Post', 'Month', 'Interval Times'],\n",
      "      dtype='object')\n"
     ]
    }
   ],
   "source": [
    "df = pd.read_csv(\"https://docs.google.com/spreadsheets/d/1thMQ4ndtgzyEM6qfoA2tfrt3MEzZY2CtxhjpCTNcS0U/gviz/tq?tqx=out:csv&sheet=Content\")\n",
    "print('https://docs.google.com/spreadsheets/d/1thMQ4ndtgzyEM6qfoA2tfrt3MEzZY2CtxhjpCTNcS0U/gviz/tq?tqx=out:csv&sheet=Content')\n",
    "print(df.columns)"
   ]
  },
  {
   "cell_type": "code",
   "execution_count": 29,
   "id": "42901bae-941a-4af8-bb0d-7a2670672985",
   "metadata": {},
   "outputs": [
    {
     "data": {
      "text/plain": [
       "Post title                   object\n",
       "Post link                    object\n",
       "Created date                 object\n",
       "Impressions                   int64\n",
       "Clicks                        int64\n",
       "Click through rate (CTR)    float64\n",
       "Likes                         int64\n",
       "Comments                      int64\n",
       "Engagement rate             float64\n",
       "Category                     object\n",
       "Sub-Category                 object\n",
       "Year                          int64\n",
       "Month                        object\n",
       "Month & Year                 object\n",
       "Day of the week              object\n",
       "Time of Posting              object\n",
       "Emoji                          bool\n",
       "Type of Post                 object\n",
       "Interval Times              float64\n",
       "dtype: object"
      ]
     },
     "execution_count": 29,
     "metadata": {},
     "output_type": "execute_result"
    }
   ],
   "source": [
    "df = df[['Post title', 'Post link', 'Created date', 'Impressions', 'Clicks',\n",
    "       'Click through rate (CTR)', 'Likes', 'Comments',\n",
    "       'Engagement rate', 'Category',\n",
    "       'Sub-Category', 'Year', 'Month', 'Month & Year', 'Day of the week',\n",
    "       'Time of Posting', 'Emoji', 'Type of Post', 'Interval Times']].copy()\n",
    "\n",
    "def time_to_hours(t):\n",
    "    return pd.to_datetime(t, format=\"%I:%M %p\").hour + pd.to_datetime(t, format=\"%I:%M %p\").minute / 60\n",
    "\n",
    "df['Interval Times'] = df['Interval Times'].apply(time_to_hours)\n",
    "\n",
    "df.dtypes"
   ]
  },
  {
   "cell_type": "markdown",
   "id": "4d7c169a",
   "metadata": {},
   "source": [
    "ANOVA"
   ]
  },
  {
   "cell_type": "markdown",
   "id": "3994e9bd",
   "metadata": {},
   "source": [
    "Interval Times"
   ]
  },
  {
   "cell_type": "code",
   "execution_count": 30,
   "id": "35432196-a5a8-4a3a-9c44-c05ce31df05d",
   "metadata": {},
   "outputs": [
    {
     "name": "stdout",
     "output_type": "stream",
     "text": [
      "{np.float64(11.0): [3954, 11898, 1900, 5339, 1772, 3576, 19962, 1463, 7671, 1307, 2363, 1557, 1923, 2084, 2355, 2634, 2691, 4690], np.float64(12.0): [5259, 2500, 6087, 3325, 1579, 1776, 3910, 5119, 1727, 1564, 2024, 4038, 3814, 8644, 2244, 3406, 1897, 6397, 2853, 3518, 7259, 2180, 6535, 2949, 1442, 4725, 1071, 4569, 2353, 2007], np.float64(14.0): [12248, 5247, 5454, 11455, 11043, 3189, 3790, 2619, 3852, 1603, 1323, 7323, 4850, 15092, 9392, 6810, 4999, 10516, 3460, 2930, 2715], np.float64(12.5): [7812, 8114, 4914, 3194, 3485, 2916, 20272, 9161, 4348, 1902, 6658, 11365, 3370, 6171, 2519, 1008, 2393, 1927, 1642, 3714, 7887, 18952, 10497, 6383, 2593], np.float64(16.5): [2262, 6979, 1031, 2718, 2453, 2741], np.float64(13.0): [3009, 2260, 5584, 5791, 11219, 1515, 2687, 2049, 9070, 10096, 1181, 10943, 1305, 1103, 3069, 5623, 6646, 2007, 4194, 3529, 4490, 3346], np.float64(6.0): [5845], np.float64(10.0): [1192, 1087, 1181, 923, 1635, 7898, 3922, 4004, 975, 1165, 6023, 6944, 5936], np.float64(13.5): [2932, 2728, 5126, 3671, 4383, 4726, 8141, 7783, 4060, 2720, 2625, 2475, 4750, 2949, 4605, 2884, 1484, 2828, 1706], np.float64(15.5): [4825, 2177, 12950], np.float64(11.5): [5771, 2641, 1904, 2650, 3802, 5772, 1995, 2015, 2732], np.float64(10.5): [2032, 1510, 1175, 1737, 1003, 2148, 1485], np.float64(9.0): [19672], np.float64(9.5): [1253, 1990, 1449], np.float64(15.0): [4617, 7493], np.float64(17.0): [2068], np.float64(14.5): [5861, 3208, 4985], np.float64(16.0): [7716, 4411, 2582], np.float64(17.5): [2043, 3197], np.float64(8.0): [1087], np.float64(18.0): [2431], np.float64(1.5): [2945], np.float64(7.0): [1511], np.float64(8.5): [2601]}\n",
      "SST 2460769845.9433002\n",
      "SSB: 585740277.6530963\n",
      "SSW: 1875029568.2902007\n",
      "MSB: 25466968.593612883\n",
      "MSW: 11029585.69582471\n",
      "F: 2.308968740616748\n",
      "p: 0.0012545784841308605\n"
     ]
    }
   ],
   "source": [
    "\n",
    "unique = df['Interval Times'].unique()\n",
    "\n",
    "impression_info = {i : 0 for i in unique}\n",
    "\n",
    "for i in unique:\n",
    "    impression_info[i] = list(df[df['Interval Times'] == i]['Impressions'])\n",
    "\n",
    "print(impression_info)\n",
    "\n",
    "\n",
    "grand_mean = 0\n",
    "total_numbers = 0\n",
    "group_lengths = []\n",
    "for i in impression_info:\n",
    "    group_lengths.append(len(list(impression_info[i])))\n",
    "    total_numbers += len(list(impression_info[i]))\n",
    "    grand_mean += sum(impression_info[i])\n",
    "    \n",
    "grand_mean /= total_numbers\n",
    "\n",
    "sst = 0\n",
    "for i in impression_info:\n",
    "    for impression in impression_info[i]:\n",
    "        sst += (impression - grand_mean)**2\n",
    "\n",
    "ssw = 0\n",
    "group_means = [ sum(impression_info[i])/len(impression_info[i]) for i in impression_info]\n",
    "\n",
    "for group_idx, group_mean in enumerate(group_means):\n",
    "    for impression in list(impression_info.values())[group_idx]:\n",
    "        ssw += (impression - group_means[group_idx]) **2\n",
    "\n",
    "ssb = 0\n",
    "for idx, group_mean in enumerate(group_means):\n",
    "    ssb += group_lengths[idx]* (group_mean - grand_mean) ** 2 \n",
    "\n",
    "# ssb = sum([len(v) * (np.mean(v) - grand_mean)**2 for v in impression_info.values()])\n",
    "\n",
    "k = len(impression_info)\n",
    "N = sum(group_lengths)\n",
    "df_between = k - 1\n",
    "df_within = N - k\n",
    "\n",
    "MSB = ssb / df_between\n",
    "MSW = ssw / df_within\n",
    "F = MSB / MSW\n",
    "p = stats.f.sf(F, df_between, df_within)\n",
    "print('SST', sst)\n",
    "print(\"SSB:\", ssb)\n",
    "print(\"SSW:\", ssw)\n",
    "print(\"MSB:\", MSB)\n",
    "print(\"MSW:\", MSW)\n",
    "print(\"F:\", F)\n",
    "print(\"p:\", p)\n"
   ]
  },
  {
   "cell_type": "markdown",
   "id": "51f39322",
   "metadata": {},
   "source": [
    "Interpretation\n",
    "\n",
    "Since p < 0.05, there is strong statistical evidence that posting time intervals are associated with differences in impressions.\n",
    "\n",
    "When you post matters. Certain times of the day statistically lead to higher or lower impressions.\n"
   ]
  },
  {
   "cell_type": "code",
   "execution_count": 31,
   "id": "fa522850",
   "metadata": {},
   "outputs": [
    {
     "name": "stdout",
     "output_type": "stream",
     "text": [
      "{'Tue': [3954, 4914, 2932, 1900, 20272, 1579, 1927, 2619, 1772, 1727, 2032, 3922, 4004, 1564, 5584, 2244, 1253, 2641, 3576, 8141, 2180, 7783, 2049, 10096, 7716, 2949, 4060, 2625, 1103, 3069, 6383, 2718, 2593, 1087, 2431, 2453], 'Fri': [5259, 5247, 5845, 1192, 3189, 1181, 3910, 1635, 7898, 6023, 19672, 5936, 1897, 4850, 1442, 4725, 1071, 1485, 5772, 1449], 'Thu': [12248, 3009, 6979, 11898, 3325, 9161, 1902, 11365, 6171, 1008, 1642, 5126, 3671, 3714, 3852, 3814, 1323, 4617, 19962, 7493, 7259, 5861, 7323, 3208, 9070, 6535, 15092, 1463, 9392, 1181, 2720, 6646, 2007, 3529, 4490, 3346, 4999, 10516, 3460, 2715, 2884, 2363, 1557, 1923, 4569, 2148, 1484, 2828, 2353, 2945, 2732], 'Wed': [7812, 2262, 2500, 6087, 3194, 11455, 11043, 5339, 3485, 2916, 4348, 6658, 3790, 3370, 2519, 2177, 2393, 5771, 2728, 2260, 4383, 5119, 7887, 8644, 6944, 3406, 6397, 2853, 5791, 10497, 11219, 2687, 4985, 1031, 2582, 7671, 10943, 5623, 4194, 2475, 4750, 2930, 2949, 4605, 1307, 2084, 1904, 2355, 2650, 2634, 3802, 2691, 1990, 1995, 1706, 4690, 2015, 2601], 'Mon': [8114, 5454, 4825, 1087, 1776, 923, 975, 1165, 2024, 4038, 1510, 1603, 1175, 1737, 1003, 4726, 3518, 18952, 2068, 1515, 12950, 4411, 6810, 1305, 2043, 3197, 2007, 1511, 2741]}\n",
      "SST 2460769845.9432993\n",
      "SSB: 53204961.61411257\n",
      "SSW: 2407564884.3291864\n",
      "MSB: 13301240.403528143\n",
      "MSW: 12738438.541424267\n",
      "F: 1.044181385361612\n",
      "p: 0.38569477327480867\n"
     ]
    }
   ],
   "source": [
    "unique = df['Day of the week'].unique()\n",
    "\n",
    "impression_info = {i : 0 for i in unique}\n",
    "\n",
    "for i in unique:\n",
    "    impression_info[i] = list(df[df['Day of the week'] == i]['Impressions'])\n",
    "\n",
    "print(impression_info)\n",
    "\n",
    "\n",
    "grand_mean = 0\n",
    "total_numbers = 0\n",
    "group_lengths = []\n",
    "for i in impression_info:\n",
    "    group_lengths.append(len(list(impression_info[i])))\n",
    "    total_numbers += len(list(impression_info[i]))\n",
    "    grand_mean += sum(impression_info[i])\n",
    "    \n",
    "grand_mean /= total_numbers\n",
    "\n",
    "sst = 0\n",
    "for i in impression_info:\n",
    "    for impression in impression_info[i]:\n",
    "        sst += (impression - grand_mean)**2\n",
    "\n",
    "ssw = 0\n",
    "group_means = [ sum(impression_info[i])/len(impression_info[i]) for i in impression_info]\n",
    "\n",
    "for group_idx, group_mean in enumerate(group_means):\n",
    "    for impression in list(impression_info.values())[group_idx]:\n",
    "        ssw += (impression - group_means[group_idx]) **2\n",
    "\n",
    "ssb = 0\n",
    "for idx, group_mean in enumerate(group_means):\n",
    "    ssb += group_lengths[idx]* (group_mean - grand_mean) ** 2 \n",
    "\n",
    "# ssb = sum([len(v) * (np.mean(v) - grand_mean)**2 for v in impression_info.values()])\n",
    "\n",
    "k = len(impression_info)\n",
    "N = sum(group_lengths)\n",
    "df_between = k - 1\n",
    "df_within = N - k\n",
    "\n",
    "MSB = ssb / df_between\n",
    "MSW = ssw / df_within\n",
    "F = MSB / MSW\n",
    "p = stats.f.sf(F, df_between, df_within)\n",
    "print('SST', sst)\n",
    "print(\"SSB:\", ssb)\n",
    "print(\"SSW:\", ssw)\n",
    "print(\"MSB:\", MSB)\n",
    "print(\"MSW:\", MSW)\n",
    "print(\"F:\", F)\n",
    "print(\"p:\", p)\n"
   ]
  },
  {
   "cell_type": "markdown",
   "id": "83aee55c",
   "metadata": {},
   "source": [
    "Interpretation\n",
    "\n",
    "Since p > 0.05, there is no strong statistical evidence that posting time intervals are associated with differences in impressions."
   ]
  },
  {
   "cell_type": "code",
   "execution_count": 32,
   "id": "4b028b9d",
   "metadata": {},
   "outputs": [
    {
     "name": "stdout",
     "output_type": "stream",
     "text": [
      "{'image': [3954, 5247, 3009, 2500, 4914, 1192, 3194, 11455, 2932, 11043, 4825, 11898, 1900, 3325, 3189, 1087, 2916, 20272, 9161, 4348, 1579, 1776, 1902, 6658, 3790, 11365, 3370, 6171, 1008, 2177, 1927, 1642, 5771, 1181, 2728, 3910, 2619, 923, 5126, 3671, 1635, 4383, 7898, 5119, 1772, 1727, 2032, 3922, 4004, 975, 1165, 6023, 1564, 2024, 4038, 5584, 8644, 2244, 1510, 6944, 1603, 3406, 1175, 1897, 1323, 6397, 2641, 1737, 4617, 3576, 4726, 2853, 5791, 8141, 18952, 7259], 'text': [5259, 8114, 5845, 6087, 3485, 3852], 'video': [12248, 7812, 2262, 6979, 5454, 5339, 2519, 2393, 2260, 3714, 7887, 3814, 19672, 5936, 19962, 7493, 3518], 'repost': [1253, 1003]}\n",
      "SST 1640098645.3267326\n",
      "SSB: 127934445.4546996\n",
      "SSW: 1512164199.8720329\n",
      "MSB: 42644815.151566535\n",
      "MSW: 15589321.648165287\n",
      "F: 2.735514483183777\n",
      "p: 0.047737847288691994\n"
     ]
    }
   ],
   "source": [
    "unique = df['Type of Post'].dropna().unique()\n",
    "\n",
    "impression_info = {i : 0 for i in unique}\n",
    "\n",
    "for i in unique:\n",
    "    impression_info[i] = list(df[df['Type of Post'] == i]['Impressions'])\n",
    "\n",
    "print(impression_info)\n",
    "\n",
    "\n",
    "grand_mean = 0\n",
    "total_numbers = 0\n",
    "group_lengths = []\n",
    "for i in impression_info:\n",
    "    group_lengths.append(len(list(impression_info[i])))\n",
    "    total_numbers += len(list(impression_info[i]))\n",
    "    grand_mean += sum(impression_info[i])\n",
    "    \n",
    "grand_mean /= total_numbers\n",
    "\n",
    "sst = 0\n",
    "for i in impression_info:\n",
    "    for impression in impression_info[i]:\n",
    "        sst += (impression - grand_mean)**2\n",
    "\n",
    "ssw = 0\n",
    "group_means = [ sum(impression_info[i])/len(impression_info[i]) for i in impression_info]\n",
    "\n",
    "for group_idx, group_mean in enumerate(group_means):\n",
    "    for impression in list(impression_info.values())[group_idx]:\n",
    "        ssw += (impression - group_means[group_idx]) **2\n",
    "\n",
    "ssb = 0\n",
    "for idx, group_mean in enumerate(group_means):\n",
    "    ssb += group_lengths[idx]* (group_mean - grand_mean) ** 2 \n",
    "\n",
    "# ssb = sum([len(v) * (np.mean(v) - grand_mean)**2 for v in impression_info.values()])\n",
    "\n",
    "k = len(impression_info)\n",
    "N = sum(group_lengths)\n",
    "df_between = k - 1\n",
    "df_within = N - k\n",
    "\n",
    "MSB = ssb / df_between\n",
    "MSW = ssw / df_within\n",
    "F = MSB / MSW\n",
    "p = stats.f.sf(F, df_between, df_within)\n",
    "print('SST', sst)\n",
    "print(\"SSB:\", ssb)\n",
    "print(\"SSW:\", ssw)\n",
    "print(\"MSB:\", MSB)\n",
    "print(\"MSW:\", MSW)\n",
    "print(\"F:\", F)\n",
    "print(\"p:\", p)"
   ]
  },
  {
   "cell_type": "markdown",
   "id": "1d034705",
   "metadata": {},
   "source": [
    "Interpretation\n",
    "\n",
    "Since p < 0.05, there is strong statistical evidence that posting time intervals are associated with differences in impressions."
   ]
  },
  {
   "cell_type": "code",
   "execution_count": 34,
   "id": "62cd1010",
   "metadata": {},
   "outputs": [
    {
     "name": "stdout",
     "output_type": "stream",
     "text": [
      "{np.int64(4): [3954, 8114, 2500, 4914, 5454, 11455, 2619, 5791, 7783, 7716, 6646, 4569], np.int64(2): [5259, 3009, 3325, 1902, 6171, 2519, 1008, 2177, 2393, 1642, 3910, 1635, 3922, 7887, 1510, 1323, 4726, 7323, 4985, 10096, 4411, 4060, 6383, 4725, 3346, 4999, 10516, 2828, 1449, 2601, 2732], np.int64(7): [12248, 5771, 11219], np.int64(6): [7812, 11898, 5339, 18952, 5861, 3208, 9070, 15092, 2582, 7671], np.int64(1): [5247, 6979, 2932, 1900, 4348, 3790, 1927, 1181, 3671, 2260, 3852, 1772, 1564, 2024, 5584, 5936, 3406, 1897, 6397, 1737, 3576, 3518, 2068, 2049, 2949, 9392, 1181, 2720, 1305, 5623, 4490, 2475, 2930, 2949, 2363, 2650, 2148, 3802, 2691, 2043, 2353, 1995, 2007, 2741], np.int64(5): [2262, 6087, 3189, 9161, 6658, 11365, 19672, 7493, 7259, 10497, 6535, 2625], np.int64(19): [5845], np.int64(0): [1192, 3194, 3485, 1087, 2916, 1579, 1776, 923, 1727, 2032, 4004, 975, 1165, 6023, 3814, 8644, 2244, 1253, 1175, 1003, 8141, 2180, 1515, 2687, 1031, 1463, 1103, 3069, 1442, 2007, 4194, 3529, 2718, 4750, 3460, 1071, 2715, 4605, 2884, 1307, 1557, 1923, 2084, 1904, 2355, 1484, 2634, 1990, 2593, 1087, 2431, 3197, 1485, 5772, 1706, 2945, 1511, 2453, 2015], np.int64(9): [11043], np.int64(3): [4825, 20272, 3370, 5126, 3714, 4383, 5119, 4038, 6944, 1603, 2641, 4617, 2853, 12950, 4850, 4690], np.int64(8): [2728, 6810], np.int64(26): [7898], np.int64(14): [19962], np.int64(10): [10943]}\n",
      "SST 2460769845.943299\n",
      "SSB: 1085410231.978967\n",
      "SSW: 1375359613.964332\n",
      "MSB: 83493094.76761284\n",
      "MSW: 7640886.744246289\n",
      "F: 10.927147275214423\n",
      "p: 5.170323281015965e-17\n",
      "True\n"
     ]
    }
   ],
   "source": [
    "unique = df['Comments'].dropna().unique()\n",
    "\n",
    "impression_info = {i : 0 for i in unique}\n",
    "\n",
    "for i in unique:\n",
    "    impression_info[i] = list(df[df['Comments'] == i]['Impressions'])\n",
    "\n",
    "print(impression_info)\n",
    "\n",
    "\n",
    "grand_mean = 0\n",
    "total_numbers = 0\n",
    "group_lengths = []\n",
    "for i in impression_info:\n",
    "    group_lengths.append(len(list(impression_info[i])))\n",
    "    total_numbers += len(list(impression_info[i]))\n",
    "    grand_mean += sum(impression_info[i])\n",
    "    \n",
    "grand_mean /= total_numbers\n",
    "\n",
    "sst = 0\n",
    "for i in impression_info:\n",
    "    for impression in impression_info[i]:\n",
    "        sst += (impression - grand_mean)**2\n",
    "\n",
    "ssw = 0\n",
    "group_means = [ sum(impression_info[i])/len(impression_info[i]) for i in impression_info]\n",
    "\n",
    "for group_idx, group_mean in enumerate(group_means):\n",
    "    for impression in list(impression_info.values())[group_idx]:\n",
    "        ssw += (impression - group_means[group_idx]) **2\n",
    "\n",
    "ssb = 0\n",
    "for idx, group_mean in enumerate(group_means):\n",
    "    ssb += group_lengths[idx]* (group_mean - grand_mean) ** 2 \n",
    "\n",
    "# ssb = sum([len(v) * (np.mean(v) - grand_mean)**2 for v in impression_info.values()])\n",
    "\n",
    "k = len(impression_info)\n",
    "N = sum(group_lengths)\n",
    "df_between = k - 1\n",
    "df_within = N - k\n",
    "\n",
    "MSB = ssb / df_between\n",
    "MSW = ssw / df_within\n",
    "F = MSB / MSW\n",
    "p = stats.f.sf(F, df_between, df_within)\n",
    "print('SST', sst)\n",
    "print(\"SSB:\", ssb)\n",
    "print(\"SSW:\", ssw)\n",
    "print(\"MSB:\", MSB)\n",
    "print(\"MSW:\", MSW)\n",
    "print(\"F:\", F)\n",
    "print(\"p:\", p)\n",
    "\n",
    "print(p < 0.05)"
   ]
  },
  {
   "cell_type": "markdown",
   "id": "ee346061",
   "metadata": {},
   "source": [
    "Interpretation\n",
    "\n",
    "Since p < 0.05, there is strong statistical evidence that posting time intervals are associated with differences in impressions."
   ]
  }
 ],
 "metadata": {
  "kernelspec": {
   "display_name": ".venv",
   "language": "python",
   "name": "python3"
  },
  "language_info": {
   "codemirror_mode": {
    "name": "ipython",
    "version": 3
   },
   "file_extension": ".py",
   "mimetype": "text/x-python",
   "name": "python",
   "nbconvert_exporter": "python",
   "pygments_lexer": "ipython3",
   "version": "3.12.10"
  }
 },
 "nbformat": 4,
 "nbformat_minor": 5
}
